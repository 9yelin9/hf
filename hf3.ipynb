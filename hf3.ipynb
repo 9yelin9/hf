{
 "cells": [
  {
   "cell_type": "markdown",
   "id": "ef1bea86",
   "metadata": {},
   "source": [
    "# Predict Magnetic Structure"
   ]
  },
  {
   "cell_type": "code",
   "execution_count": 1,
   "id": "f63a5fb1",
   "metadata": {
    "scrolled": true
   },
   "outputs": [],
   "source": [
    "import re\n",
    "import copy\n",
    "import numpy as np\n",
    "import pandas as pd\n",
    "import seaborn as sns\n",
    "import matplotlib.pyplot as plt\n",
    "\n",
    "from pyhf3.read import ReadInfo\n",
    "from pyhf3 import draw\n",
    "from pyhf3 import magstr"
   ]
  },
  {
   "cell_type": "code",
   "execution_count": 58,
   "id": "d3437de1",
   "metadata": {
    "scrolled": false
   },
   "outputs": [],
   "source": [
    "name = 'baoso3'\n",
    "path_input = 'input/%s/' % name\n",
    "path_output = 'output/%s/' % name\n",
    "\n",
    "info_path, info_cell = ReadInfo(path_input)\n",
    "\n",
    "types = ['a', 'c', 'g']\n",
    "types_dict = {'a':0, 'c':1, 'g':2}\n",
    "\n",
    "figsize=(11, 6)\n",
    "plt.rcParams.update({'font.size': 25})\n",
    "\n",
    "\"\"\"\n",
    "def DrawHeatmap(path_output, fn):\n",
    "    df = pd.read_csv('%s/%s' % (path_output, fn))\n",
    "    bins_range = sorted(list(set(df['bins'])))\n",
    "    eta_range = sorted(list(set(df['eta'])))\n",
    "    \n",
    "    df = df.sort_values(by=['bins', 'eta'])\n",
    "    data = df['acc'].to_numpy().reshape((len(bins_range), len(eta_range))).T\n",
    "    \n",
    "    fig, ax = plt.subplots(figsize=(14, 6))\n",
    "    ms = ax.matshow(data, cmap='Blues')\n",
    "    cb = plt.colorbar(ms, shrink=0.9, format='%.2f')\n",
    "    \n",
    "    acc_max = 0\n",
    "    coord = (0, 0)\n",
    "    for (i, j), z in np.ndenumerate(data):\n",
    "        #ax.text(j, i, '{:0.2f}'.format(z), size=13, ha='center', va='center', c='white')\n",
    "        if z > acc_max:\n",
    "            acc_max = z\n",
    "            coord = (j, i)\n",
    "            \n",
    "    #ax.text(coord[0], coord[1], '{:0.2f}'.format(acc_max), size=13, ha='center', va='center', c='white')\n",
    "    ax.scatter(coord[0], coord[1], s=150, c='white', marker='*')\n",
    "    ax.xaxis.set_ticks_position('bottom')\n",
    "    ax.set_xticks(range(0, len(bins_range)))\n",
    "    ax.set_yticks(range(0, len(eta_range)))\n",
    "    ax.set_xticklabels(bins_range, rotation=45)\n",
    "    ax.set_yticklabels(eta_range)\n",
    "    ax.set_xlabel('Interval')\n",
    "    ax.set_ylabel('Broadening scale')\n",
    "    print(coord, acc_max)\n",
    "    plt.show()\n",
    "    \n",
    "def DrawOptEta(path_output, fn, bins):\n",
    "    df = pd.read_csv('%s/%s' % (path_output, fn))\n",
    "    df = df[df['bins'] == bins]\n",
    "    data = df[['eta', 'acc']].to_numpy()\n",
    "    \n",
    "    fig, ax = plt.subplots(figsize=figsize)\n",
    "    ax.plot(data[:, 0], data[:, 1], '.-', ms=20)\n",
    "    ax.grid(True)\n",
    "    yticks = [i for i in np.arange(0.90, 0.97, 0.01)]\n",
    "    ax.set_yticks(yticks)\n",
    "    ax.set_yticklabels(['%.2f' % i for i in yticks])\n",
    "    ax.set_xlabel('Broadening scale')\n",
    "    ax.set_ylabel('Accuracy')\n",
    "    plt.show()\n",
    "\"\"\"\n",
    "\n",
    "def DrawHist(df, title, params):\n",
    "    bins = len(df.columns) - len(params)\n",
    "    hist = df.drop(params, axis=1).sum()\n",
    "    x = hist.index.to_list()\n",
    "    \n",
    "    xt = np.arange(0, len(x), bins//4, dtype=int)\n",
    "    xt = np.append(xt, len(x)-1)\n",
    "    \n",
    "    fig, ax = plt.subplots(figsize=figsize)\n",
    "    ax.bar(x, hist)\n",
    "    ax.set_xticks([x[i] for i in xt])\n",
    "    ax.set_title(title, loc='left')\n",
    "    plt.show()\n",
    "\n",
    "def DrawConfusionMatrix(y_test, y_pred, title):\n",
    "    from sklearn.metrics import ConfusionMatrixDisplay\n",
    "    \n",
    "    fig, ax = plt.subplots(figsize=figsize)\n",
    "    ConfusionMatrixDisplay.from_predictions(y_test, y_pred, normalize='true', cmap='Blues', values_format='.2f', ax=ax)\n",
    "    ax.set_title(title, loc='left')\n",
    "    plt.show()\n",
    "    \n",
    "def DrawROC(y_test, y_score, title):\n",
    "    from sklearn.preprocessing import label_binarize\n",
    "    from sklearn.metrics import roc_curve, auc\n",
    "    \n",
    "    y_testb = label_binarize(y_test, classes=types)\n",
    "    n_classes = y_testb.shape[1]\n",
    "    \n",
    "    fpr = dict()\n",
    "    tpr = dict()\n",
    "    roc_auc = dict()\n",
    "    \n",
    "    fig, ax = plt.subplots(figsize=figsize)\n",
    "    \n",
    "    for i in range(n_classes):\n",
    "        fpr[i], tpr[i], _ = roc_curve(y_testb[:, i], y_score[:, i])\n",
    "        roc_auc[i] = auc(fpr[i], tpr[i])\n",
    "        \n",
    "        ax.plot(fpr[i], tpr[i], label='%s (%.3f)' % (types[i], roc_auc[i]))\n",
    "\n",
    "    ax.plot([0, 1], [0, 1], 'k--')\n",
    "    ax.set_xlim([-0.05, 1.0])\n",
    "    ax.set_ylim([0.0, 1.05])\n",
    "    ax.set_xlabel('False Positive Rate')\n",
    "    ax.set_ylabel('True Positive Rate')\n",
    "    ax.set_title(title, loc='left')\n",
    "    ax.legend(loc=\"lower right\")\n",
    "    plt.show()\n",
    "    \n",
    "def DrawInput(df, title, prefix=''):\n",
    "    alpha = 0.5\n",
    "    bins0 = [len(np.unique(df['JU'])), len(np.unique(df['N']))//4, len(np.unique(df['U']))]\n",
    "    xlim = [[-0.01, 0.31], [0, 12], [-0.1, 5.1]]\n",
    "    \n",
    "    for i, v in enumerate(['JU', 'N', 'U']):\n",
    "        fig, ax = plt.subplots(figsize=figsize)\n",
    "        _, bins = np.histogram(df[v], bins=bins0[i])\n",
    "        for j, t in enumerate(types):\n",
    "            df[df['type'] == j].hist(column=[v], ax=ax, bins=bins, alpha=alpha, label=t)\n",
    "        ax.set_xlim(xlim[i])\n",
    "        ax.legend()\n",
    "        ax.set_title('%s%s\\n'%(prefix,v)+title, loc='left')\n",
    "        plt.title('')\n",
    "    plt.show()\n",
    "\n",
    "def DrawOutput(df, title, prefix='', zoom=False):\n",
    "    bins0 = 50\n",
    "    bins_ins0 = 20\n",
    "    alpha = 0.5\n",
    "    xlim = [[-0.1, 6.1], [], []]\n",
    "    xlim_ins = [[-0.1, 1], [0, 10], [-0.1, 0.5]]\n",
    "    \n",
    "    for i, v in enumerate(['m', 'dntop', 'gap']):\n",
    "        fig, ax = plt.subplots(figsize=figsize)\n",
    "        _, bins = np.histogram(df[v], bins=bins0)\n",
    "        for j, t in enumerate(types):\n",
    "            df[df['type'] == j].hist(column=[v], ax=ax, bins=bins, alpha=alpha, label=t)\n",
    "\n",
    "        if zoom:\n",
    "            ins = ax.inset_axes([0.4,0.6,0.3,0.3])\n",
    "            _, bins_ins = np.histogram(df[v], bins=bins_ins0)\n",
    "            for j, t in enumerate(types):\n",
    "                df[df['type'] == j].hist(column=[v], ax=ins, bins=bins_ins, alpha=alpha, label=t)\n",
    "            ins.set_xlim(xlim_ins[i])\n",
    "            ins.set_title('')\n",
    "        if len(xlim[i]): ax.set_xlim(xlim[i])\n",
    "        ax.legend()\n",
    "        ax.set_title('%s%s\\n'%(prefix,v)+title, loc='left')\n",
    "        plt.title('')\n",
    "    plt.show()\n",
    "    \n",
    "def DrawType(df, title, prefix=''):\n",
    "    fig, ax = plt.subplots(figsize=figsize)\n",
    "    \n",
    "    df.hist(column=['type'], ax=ax)\n",
    "    \n",
    "    ax.set_xticks([0, 1, 2])\n",
    "    ax.set_xticklabels(types)\n",
    "    ax.set_xlim([-0.1, 2.1])\n",
    "    ax.set_ylim([0, 1800])\n",
    "    ax.set_title('%stype\\n'%(prefix)+title, loc='left')\n",
    "    plt.title('')\n",
    "    plt.show()\n",
    "    \n",
    "def DrawMisType(df, title):\n",
    "    bins0 = len(types)\n",
    "    alpha = 0.5\n",
    "    \n",
    "    fig, ax = plt.subplots(figsize=figsize)\n",
    "    _, bins = np.histogram(df['type'], bins=bins0)\n",
    "    for i, t in enumerate(types):\n",
    "        df[df['type_f'] == i].hist(column=['type'], ax=ax, bins=bins, alpha=alpha, label=types[i])\n",
    "    ax.set_xticks([0, 1, 2])\n",
    "    ax.set_xticklabels(types)\n",
    "    ax.set_xlim([-0.1, 2.1])\n",
    "    ax.legend()\n",
    "    ax.set_title('misclassifed type\\n'+title, loc='left')\n",
    "    plt.title('')\n",
    "    plt.show()\n",
    "    \n",
    "def DrawCorr(df):\n",
    "    fig, ax = plt.subplots(figsize=figsize)\n",
    "    corr = df.loc[:, ['JU', 'N', 'U', 'm', 'dntop', 'gap']].corr()\n",
    "    sns.heatmap(corr, annot=True, fmt='.1f', ax=ax)\n",
    "    plt.show()\n",
    "    \n",
    "def DrawImp(estimators, importances, feature_names):\n",
    "    forest_importances = pd.Series(importances, index=feature_names)\n",
    "\n",
    "    fig, ax = plt.subplots(figsize=(25, 6))\n",
    "    std = np.std([importances for tree in estimators], axis=0)\n",
    "    forest_importances.plot.bar(yerr=std, ax=ax)\n",
    "    ax.set_title(\"Feature importances using MDI\")\n",
    "    ax.set_ylabel(\"Mean decrease in impurity\")\n",
    "    fig.tight_layout()\n",
    "    \n",
    "def DrawResult(ptype, pnum, dtype, tol, bins, eta, rsp):        \n",
    "    # df_dos(input)\n",
    "    df_dos = pd.read_csv('%s/magstr/dos_ptype%s_pnum%d_dtype%s_tol%.3f_bins%d_eta%.3f.csv'% (path_output, ptype, pnum, dtype, tol, bins, eta), sep=',', index_col=0)\n",
    "\n",
    "    ms = magstr.MagStr(path_output, info_path, info_cell, ptype, pnum)\n",
    "    acc, y_test, y_pred, y_score, y_idx, est, imp = ms.DoRandomForest(dtype, tol, bins, eta, rsp=rsp)\n",
    "\n",
    "    # df_rsp\n",
    "    df_rsp = df_dos.loc[y_idx, :]\n",
    "    \n",
    "    # df_mis\n",
    "    mis_list = []\n",
    "    f_list = []\n",
    "    for i, y_true in enumerate(y_test):\n",
    "        if(y_true != y_pred[i]):\n",
    "            mis_list.append(y_test.index[i])\n",
    "            f_list.append(y_pred[i])\n",
    "    df_mis = df_dos.loc[mis_list, :]\n",
    "\n",
    "    # add misclassified type at df_mis\n",
    "    df_mis['type_f'] = 0\n",
    "    for i, idx in enumerate(mis_list):\n",
    "        df_mis.loc[idx, 'type_f'] = f_list[i]\n",
    "\n",
    "    df_dos['type'] = df_dos['type'].replace(types_dict)\n",
    "    df_rsp['type'] = df_rsp['type'].replace(types_dict)\n",
    "    df_mis['type'] = df_mis['type'].replace(types_dict)\n",
    "    df_mis['type_f'] = df_mis['type_f'].replace(types_dict)\n",
    "    \n",
    "    print('accuracy = %d/%d = %.4f' % ((len(y_pred)-len(df_mis)), len(y_pred), acc))\n",
    "\n",
    "    return df_dos, df_rsp, df_mis, y_test, y_pred, y_score, ms.params, est, imp"
   ]
  },
  {
   "cell_type": "code",
   "execution_count": 64,
   "id": "67265171",
   "metadata": {
    "scrolled": false
   },
   "outputs": [
    {
     "name": "stdout",
     "output_type": "stream",
     "text": [
      "accuracy = 809/816 = 0.9914\n"
     ]
    },
    {
     "data": {
      "image/png": "[encoded data removed]",
      "text/plain": [
       "<Figure size 792x432 with 2 Axes>"
      ]
     },
     "metadata": {
      "needs_background": "light"
     },
     "output_type": "display_data"
    },
    {
     "data": {
      "image/png": "[encoded data removed]",
      "text/plain": [
       "<Figure size 792x432 with 1 Axes>"
      ]
     },
     "metadata": {
      "needs_background": "light"
     },
     "output_type": "display_data"
    }
   ],
   "source": [
    "args = {\n",
    "    'ptype':0,\n",
    "    'pnum':0,\n",
    "    'dtype':2,\n",
    "    'tol':1.0,\n",
    "    'bins':100,\n",
    "    'eta':0.05,\n",
    "    'rsp':'enn'\n",
    "}\n",
    "\n",
    "title = 'dtype%s %s' %\\\n",
    "(args['dtype'], args['rsp'])\n",
    "prefix = 'resampled '\n",
    "\n",
    "df_dos, df_rsp, df_mis, y_test, y_pred, y_score, params, est, imp =\\\n",
    "DrawResult(args['ptype'], args['pnum'], args['dtype'], args['tol'], args['bins'], args['eta'], args['rsp'])\n",
    "\n",
    "if   prefix == 'resampled ':    df = df_rsp\n",
    "elif prefix == 'misclassified ': df = df_mis\n",
    "else:\n",
    "    print('no prefix')\n",
    "    df = df_dos\n",
    "\n",
    "#print(len(df_dos))\n",
    "#DrawHist(df_dos, title=title, params=params)\n",
    "DrawConfusionMatrix(y_test, y_pred, title=title)\n",
    "#DrawROC(y_test, y_score, title=title)\n",
    "DrawType(df, title=title, prefix=prefix)\n",
    "#DrawMisType(df_mis, title=title)\n",
    "#DrawInput(df, title=title, prefix=prefix)\n",
    "#DrawOutput(df, title=title, prefix=prefix, zoom=False)\n",
    "#DrawImp(est, imp, [col for col in df_dos.columns.to_list() if not col in params])"
   ]
  },
  {
   "cell_type": "code",
   "execution_count": null,
   "id": "2a067e0d",
   "metadata": {
    "scrolled": false
   },
   "outputs": [],
   "source": [
    "dr = draw.Draw(path_input, path_output, info_path, info_cell, 0.1, 0)\n",
    "dr.DrawBandDOS('g', 6, 1, 1)\n",
    "dr.DrawBandDOS('c', 6, 1, 1)"
   ]
  },
  {
   "cell_type": "code",
   "execution_count": null,
   "id": "ee6311f6",
   "metadata": {},
   "outputs": [],
   "source": []
  },
  {
   "cell_type": "code",
   "execution_count": null,
   "id": "e434ba33",
   "metadata": {},
   "outputs": [],
   "source": []
  },
  {
   "cell_type": "code",
   "execution_count": null,
   "id": "d259b320",
   "metadata": {},
   "outputs": [],
   "source": []
  },
  {
   "cell_type": "code",
   "execution_count": null,
   "id": "dd991b5d",
   "metadata": {},
   "outputs": [],
   "source": []
  },
  {
   "cell_type": "code",
   "execution_count": null,
   "id": "e92117c8",
   "metadata": {},
   "outputs": [],
   "source": []
  },
  {
   "cell_type": "code",
   "execution_count": null,
   "id": "148edc71",
   "metadata": {},
   "outputs": [],
   "source": []
  },
  {
   "cell_type": "code",
   "execution_count": null,
   "id": "9e191764",
   "metadata": {},
   "outputs": [],
   "source": []
  },
  {
   "cell_type": "code",
   "execution_count": null,
   "id": "e90121d7",
   "metadata": {},
   "outputs": [],
   "source": []
  },
  {
   "cell_type": "code",
   "execution_count": null,
   "id": "fe35a480",
   "metadata": {},
   "outputs": [],
   "source": []
  },
  {
   "cell_type": "code",
   "execution_count": null,
   "id": "22c430cb",
   "metadata": {},
   "outputs": [],
   "source": []
  },
  {
   "cell_type": "code",
   "execution_count": null,
   "id": "02f3b123",
   "metadata": {
    "scrolled": false
   },
   "outputs": [],
   "source": [
    "lists = [(0, 0), (1, 10), (2, 10)]\n",
    "dfs = []\n",
    "dfms = []\n",
    "\n",
    "tol = 1e-3\n",
    "bins = 100\n",
    "eta = 0.5\n",
    "\n",
    "for (i, j) in lists:\n",
    "    m = magstr.ML(path_output, info_path, info_cell, i, j)\n",
    "    info = 'ptype%d num%d tol%.3f' % (i, j, tol)\n",
    "    title = '%s bins%d eta%.1f' % (info, bins, eta)\n",
    "    \n",
    "    # df\n",
    "    df, e_label, w_label, p_label = m.OpenBand(tol)\n",
    "        \n",
    "    # RF\n",
    "    acc, y_test, y_pred, y_score = m.DoRandomForest(tol, bins, eta)\n",
    "    print(acc)\n",
    "    \n",
    "    # dfm\n",
    "    mis_list = []\n",
    "    f_list = []\n",
    "    for i, y_true in enumerate(y_test):\n",
    "        if(y_true != y_pred[i]):\n",
    "            mis_list.append(y_test.index[i])\n",
    "            f_list.append(y_pred[i])\n",
    "    dfm = df.loc[mis_list, :]\n",
    "    \n",
    "    # add False type at dfm\n",
    "    dfm['type_f'] = 0\n",
    "    for i, idx in enumerate(mis_list):\n",
    "        dfm.loc[idx, 'type_f'] = f_list[i]\n",
    "    \n",
    "    df['type'] = df['type'].replace(types_dict)\n",
    "    dfm['type'] = dfm['type'].replace(types_dict)\n",
    "    dfm['type_f'] = dfm['type_f'].replace(types_dict)\n",
    "    \n",
    "    dfs.append([df, e_label, w_label, p_label, title])\n",
    "    dfms.append([dfm, y_test, y_pred, title])\n",
    "\n",
    "    DrawHist(df, e_label, info)\n",
    "    DrawROC(y_test, y_score, title=title)\n",
    "    DrawConfusionMatrix(y_test, y_pred, title=title)"
   ]
  },
  {
   "cell_type": "code",
   "execution_count": null,
   "id": "6afaeadd",
   "metadata": {},
   "outputs": [],
   "source": [
    "print(dfs[0][1])"
   ]
  },
  {
   "cell_type": "code",
   "execution_count": null,
   "id": "4ec5b97f",
   "metadata": {
    "scrolled": false
   },
   "outputs": [],
   "source": [
    "DrawInput(dfs[0][0], '')\n",
    "DrawOutput(dfs[0][0], '')"
   ]
  },
  {
   "cell_type": "code",
   "execution_count": null,
   "id": "4c5e8281",
   "metadata": {},
   "outputs": [],
   "source": [
    "corr = dfs[0][0].loc[:, ['JU', 'N', 'U', 'm', 'dntop', 'gap']].corr()\n",
    "sns.heatmap(corr, annot=True, fmt='.1f')"
   ]
  },
  {
   "cell_type": "code",
   "execution_count": null,
   "id": "848da27b",
   "metadata": {
    "scrolled": false
   },
   "outputs": [],
   "source": [
    "for i in range(3):\n",
    "    DrawMisType(dfms[i][0], dfms[i][-1])\n",
    "    #DrawInput(dfms[i][0], dfms[i][-1])\n",
    "    DrawOutput(dfms[i][0], dfms[i][-1])"
   ]
  },
  {
   "cell_type": "code",
   "execution_count": null,
   "id": "1369b5ca",
   "metadata": {},
   "outputs": [],
   "source": [
    "for i in range(3):\n",
    "    df = dfms[i][0]\n",
    "    print(df[df['m'] > 3.0])"
   ]
  },
  {
   "cell_type": "code",
   "execution_count": null,
   "id": "2540333c",
   "metadata": {},
   "outputs": [],
   "source": [
    "d = []\n",
    "for i in range(4):\n",
    "    di = draw.Draw(path_input, path_output, info_path, info_cell, 0.1*i, 0)\n",
    "    d.append(di)"
   ]
  },
  {
   "cell_type": "code",
   "execution_count": null,
   "id": "a38deb85",
   "metadata": {},
   "outputs": [],
   "source": [
    "d[0].DrawBandDOS('a', 8.0, 3.5)\n",
    "d[0].DrawBandDOS('c', 8.0, 3.5)\n",
    "d[0].DrawBandDOS('g', 8.0, 3.5)"
   ]
  },
  {
   "cell_type": "code",
   "execution_count": null,
   "id": "d5e3acf8",
   "metadata": {},
   "outputs": [],
   "source": [
    "for i in [0, 1, 2]:\n",
    "    for j in [0, 1, 2]:\n",
    "        if j != i:\n",
    "            df = dfms[0][0][(dfms[0][0]['type'] == i) & (dfms[0][0]['type_f'] == j)]\n",
    "            print('type %d type_f %d' % (i, j), len(df), sep='\\n')"
   ]
  },
  {
   "cell_type": "code",
   "execution_count": null,
   "id": "96d22b6a",
   "metadata": {},
   "outputs": [],
   "source": [
    "dfca = dfms[0][0][(dfms[0][0]['type'] == 1) & (dfms[0][0]['type_f'] == 0)]\n",
    "DrawInput()"
   ]
  },
  {
   "cell_type": "code",
   "execution_count": null,
   "id": "7f9d7d5d",
   "metadata": {},
   "outputs": [],
   "source": [
    "DrawHist(0)\n",
    "DrawHist(1)\n",
    "DrawHist(2)"
   ]
  },
  {
   "cell_type": "code",
   "execution_count": null,
   "id": "5464f32c",
   "metadata": {},
   "outputs": [],
   "source": [
    "plt.rcParams.update({'font.size': 18})\n",
    "\n",
    "DrawHeatmap(path_output, 'magstr/acc_rf.csv')"
   ]
  },
  {
   "cell_type": "code",
   "execution_count": null,
   "id": "a24ce53b",
   "metadata": {},
   "outputs": [],
   "source": [
    "plt.rcParams.update({'font.size': 18})\n",
    "\n",
    "DrawOptEta(path_output, 'magstr/acc_rf.csv', 40)"
   ]
  },
  {
   "cell_type": "code",
   "execution_count": null,
   "id": "6c59ee8f",
   "metadata": {
    "scrolled": false
   },
   "outputs": [],
   "source": [
    "plt.rcParams.update({'font.size': 16})\n",
    "\n",
    "acc, y_test, y_pred = m.DoRandomForest(100, 0.4)\n",
    "DrawConfusionMatrix(y_test, y_pred)"
   ]
  },
  {
   "cell_type": "code",
   "execution_count": null,
   "id": "02c520de",
   "metadata": {},
   "outputs": [],
   "source": [
    "y_test.iloc[0]"
   ]
  },
  {
   "cell_type": "code",
   "execution_count": null,
   "id": "90db3c3a",
   "metadata": {
    "scrolled": false
   },
   "outputs": [],
   "source": [
    "df0, e_label, w_label, p_label = m.OpenBand()\n",
    "mis_list = []\n",
    "cor_list = []\n",
    "\n",
    "for i, y_true in enumerate(y_test):\n",
    "    if(y_true != y_pred[i]):\n",
    "        mis_list.append(y_test.index[i])\n",
    "    else:\n",
    "        cor_list.append(y_test.index[i])\n",
    "        \n",
    "df_mis = df0.loc[mis_list, :]\n",
    "df_cor = df0.loc[cor_list, :]\n",
    "df_mis"
   ]
  },
  {
   "cell_type": "code",
   "execution_count": null,
   "id": "44b72c8a",
   "metadata": {},
   "outputs": [],
   "source": [
    "df_mis = df_mis.sort_values(by=['N', 'U'])\n",
    "df_mis[p_label]"
   ]
  }
 ],
 "metadata": {
  "kernelspec": {
   "display_name": "Python 3 (ipykernel)",
   "language": "python",
   "name": "python3"
  },
  "language_info": {
   "codemirror_mode": {
    "name": "ipython",
    "version": 3
   },
   "file_extension": ".py",
   "mimetype": "text/x-python",
   "name": "python",
   "nbconvert_exporter": "python",
   "pygments_lexer": "ipython3",
   "version": "3.9.10"
  }
 },
 "nbformat": 4,
 "nbformat_minor": 5
}
