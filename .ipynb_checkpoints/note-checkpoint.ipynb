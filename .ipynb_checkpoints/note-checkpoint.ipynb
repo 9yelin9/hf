{
 "cells": [
  {
   "cell_type": "code",
   "execution_count": null,
   "id": "b5012fae",
   "metadata": {},
   "outputs": [],
   "source": [
    "import os\n",
    "num_threads = 4\n",
    "os.environ['OMP_NUM_THREADS'] = str(num_thread)\n",
    "os.environ['OPENBLAS_NUM_THREADS'] = str(num_thread)\n",
    "\n",
    "import re\n",
    "import sys\n",
    "import argparse\n",
    "import numpy as np\n",
    "import pandas as pd\n",
    "import matplotlib.pyplot as plt\n",
    "\n",
    "from pyhf3 import magfeat"
   ]
  }
 ],
 "metadata": {
  "kernelspec": {
   "display_name": "Python 3 (ipykernel)",
   "language": "python",
   "name": "python3"
  },
  "language_info": {
   "codemirror_mode": {
    "name": "ipython",
    "version": 3
   },
   "file_extension": ".py",
   "mimetype": "text/x-python",
   "name": "python",
   "nbconvert_exporter": "python",
   "pygments_lexer": "ipython3",
   "version": "3.9.10"
  },
  "toc": {
   "base_numbering": 1,
   "nav_menu": {},
   "number_sections": true,
   "sideBar": true,
   "skip_h1_title": false,
   "title_cell": "Table of Contents",
   "title_sidebar": "Contents",
   "toc_cell": false,
   "toc_position": {},
   "toc_section_display": true,
   "toc_window_display": false
  }
 },
 "nbformat": 4,
 "nbformat_minor": 5
}
